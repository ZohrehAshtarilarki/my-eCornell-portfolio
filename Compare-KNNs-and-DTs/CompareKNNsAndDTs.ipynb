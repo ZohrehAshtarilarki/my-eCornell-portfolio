{
 "cells": [
  {
   "cell_type": "markdown",
   "metadata": {},
   "source": [
    "# Lab 3: ML Life Cycle: Modeling"
   ]
  },
  {
   "cell_type": "code",
   "execution_count": 1,
   "metadata": {},
   "outputs": [],
   "source": [
    "import pandas as pd\n",
    "import numpy as np\n",
    "import os \n",
    "import matplotlib.pyplot as plt\n",
    "import seaborn as sns\n",
    "\n",
    "from sklearn.model_selection import train_test_split \n",
    "from sklearn.preprocessing import OneHotEncoder \n",
    "from sklearn.tree import DecisionTreeClassifier\n",
    "from sklearn.neighbors import KNeighborsClassifier\n",
    "from sklearn.metrics import accuracy_score"
   ]
  },
  {
   "cell_type": "markdown",
   "metadata": {},
   "source": [
    "Decision Trees (DTs) and KNNs have many similarities. They are models that are fairly simple and intuitive to understand, can be used to solve both classification and regression problems, and are non-parametric models, meaning that they don't assume a particular relationship between the features and the label prior to training. However, KNNs and DTs each have their own advantages and disadvantages. In addition, one model may be better suited than the other for a particular machine learning problem based on multiple factors, such as the size and quality of the data, the problem-type and the hyperparameter configuration. For example, KNNs require feature values to be scaled, whereas DTs do not. DTs are also able to handle noisy data better than KNNs. \n",
    "\n",
    "Often times, it is beneficial to train multiple models on your training data to find the one that performs the best on the test data. "
   ]
  },
  {
   "cell_type": "markdown",
   "metadata": {},
   "source": [
    "In this lab, you will continue practicing the modeling phase of the machine learning life cycle. You will train Decision Trees and KNN models to solve a classification problem. You will experiment training multiple variations of the models with different hyperparameter values to find the best performing model for your predictive problem. You will complete the following tasks:\n",
    "    \n",
    "    \n",
    "1. Build your DataFrame and define your ML problem:\n",
    "    * Load the Airbnb \"listings\" data set\n",
    "    * Define the label - what are you predicting?\n",
    "    * Identify the features\n",
    "2. Prepare your data:\n",
    "    * Perform feature engineering by converting categorical features to one-hot encoded values\n",
    "3. Create labeled examples from the data set\n",
    "4. Split the data into training and test data sets\n",
    "5. Train multiple decision trees and evaluate their performances:\n",
    "    * Fit Decision Tree classifiers to the training data using different hyperparameter values per classifier\n",
    "    * Evaluate the accuracy of the models' predictions\n",
    "    * Plot the accuracy of each DT model as a function of hyperparameter max depth\n",
    "6. Train multiple KNN classifiers and evaluate their performances:\n",
    "    * Fit KNN classifiers to the training data using different hyperparameter values per classifier\n",
    "    * Evaluate the accuracy of the models' predictions\n",
    "    * Plot the accuracy of each KNN model as a function of hyperparameter $k$\n",
    "7. Analysis:\n",
    "   * Determine which is the best performing model \n",
    "   * Experiment with other factors that can help determine the best performing model"
   ]
  },
  {
   "cell_type": "markdown",
   "metadata": {},
   "source": [
    "## Part 1. Build Your DataFrame and Define Your ML Problem"
   ]
  },
  {
   "cell_type": "markdown",
   "metadata": {},
   "source": [
    "#### Load a Data Set and Save it as a Pandas DataFrame\n"
   ]
  },
  {
   "cell_type": "markdown",
   "metadata": {},
   "source": [
    "We will work with a new preprocessed, slimmed down version of the Airbnb NYC \"listings\" data set. This version is almost ready for modeling, with missing values and outliers taken care of. Also note that unstructured fields have been removed."
   ]
  },
  {
   "cell_type": "code",
   "execution_count": 2,
   "metadata": {},
   "outputs": [],
   "source": [
    "# Do not remove or edit the line below:\n",
    "filename = os.path.join(os.getcwd(), \"data\", \"airbnbData_Prepared.csv\")"
   ]
  },
  {
   "cell_type": "markdown",
   "metadata": {},
   "source": [
    "<b>Task</b>: Load the data set into a Pandas DataFrame variable named `df`."
   ]
  },
  {
   "cell_type": "code",
   "execution_count": 3,
   "metadata": {},
   "outputs": [],
   "source": [
    "df = pd.read_csv(filename, header = 0)"
   ]
  },
  {
   "cell_type": "markdown",
   "metadata": {},
   "source": [
    "####  Inspect the Data"
   ]
  },
  {
   "cell_type": "markdown",
   "metadata": {},
   "source": [
    "<b>Task</b>: In the code cell below, inspect the data in DataFrame `df` by printing the number of rows and columns, the column names, and the first ten rows. You may perform any other techniques you'd like to inspect the data."
   ]
  },
  {
   "cell_type": "code",
   "execution_count": 4,
   "metadata": {},
   "outputs": [
    {
     "data": {
      "text/plain": [
       "(28022, 43)"
      ]
     },
     "execution_count": 4,
     "metadata": {},
     "output_type": "execute_result"
    }
   ],
   "source": [
    "df.shape"
   ]
  },
  {
   "cell_type": "markdown",
   "metadata": {},
   "source": [
    "#### Define the Label\n",
    "\n",
    "Assume that your goal is to train a machine learning model that predicts whether an Airbnb host is a 'super host'. This is an example of supervised learning and is a binary classification problem. In our dataset, our label will be the `host_is_superhost` column and the label will either contain the value `True` or `False`. Let's inspect the values in the `host_is_superhost` column."
   ]
  },
  {
   "cell_type": "code",
   "execution_count": 5,
   "metadata": {},
   "outputs": [
    {
     "data": {
      "text/plain": [
       "0        False\n",
       "1        False\n",
       "2        False\n",
       "3        False\n",
       "4        False\n",
       "         ...  \n",
       "28017    False\n",
       "28018    False\n",
       "28019     True\n",
       "28020     True\n",
       "28021    False\n",
       "Name: host_is_superhost, Length: 28022, dtype: bool"
      ]
     },
     "execution_count": 5,
     "metadata": {},
     "output_type": "execute_result"
    }
   ],
   "source": [
    "df['host_is_superhost']"
   ]
  },
  {
   "cell_type": "markdown",
   "metadata": {},
   "source": [
    "#### Identify Features"
   ]
  },
  {
   "cell_type": "markdown",
   "metadata": {},
   "source": [
    "Our features will be all of the remaining columns in the dataset. \n",
    "\n",
    "<b>Task:</b> Create a list of the feature names."
   ]
  },
  {
   "cell_type": "code",
   "execution_count": 6,
   "metadata": {},
   "outputs": [
    {
     "data": {
      "text/plain": [
       "['host_response_rate',\n",
       " 'host_acceptance_rate',\n",
       " 'host_listings_count',\n",
       " 'host_total_listings_count',\n",
       " 'host_has_profile_pic',\n",
       " 'host_identity_verified',\n",
       " 'neighbourhood_group_cleansed',\n",
       " 'room_type',\n",
       " 'accommodates',\n",
       " 'bathrooms',\n",
       " 'bedrooms',\n",
       " 'beds',\n",
       " 'price',\n",
       " 'minimum_nights',\n",
       " 'maximum_nights',\n",
       " 'minimum_minimum_nights',\n",
       " 'maximum_minimum_nights',\n",
       " 'minimum_maximum_nights',\n",
       " 'maximum_maximum_nights',\n",
       " 'minimum_nights_avg_ntm',\n",
       " 'maximum_nights_avg_ntm',\n",
       " 'has_availability',\n",
       " 'availability_30',\n",
       " 'availability_60',\n",
       " 'availability_90',\n",
       " 'availability_365',\n",
       " 'number_of_reviews',\n",
       " 'number_of_reviews_ltm',\n",
       " 'number_of_reviews_l30d',\n",
       " 'review_scores_rating',\n",
       " 'review_scores_cleanliness',\n",
       " 'review_scores_checkin',\n",
       " 'review_scores_communication',\n",
       " 'review_scores_location',\n",
       " 'review_scores_value',\n",
       " 'instant_bookable',\n",
       " 'calculated_host_listings_count',\n",
       " 'calculated_host_listings_count_entire_homes',\n",
       " 'calculated_host_listings_count_private_rooms',\n",
       " 'calculated_host_listings_count_shared_rooms',\n",
       " 'reviews_per_month',\n",
       " 'n_host_verifications']"
      ]
     },
     "execution_count": 6,
     "metadata": {},
     "output_type": "execute_result"
    }
   ],
   "source": [
    "df.drop(columns = ['host_is_superhost']).columns.tolist()"
   ]
  },
  {
   "cell_type": "markdown",
   "metadata": {},
   "source": [
    "## Part 2. Prepare Your Data\n",
    "\n",
    "Many of the data preparation techniques that you practiced in Unit two have already been performed and the data is almost ready for modeling. The one exception is that a few string-valued categorical features remain. Let's perform one-hot encoding to transform these features into numerical boolean values. This will result in a data set that we can use for modeling."
   ]
  },
  {
   "cell_type": "markdown",
   "metadata": {},
   "source": [
    "#### Identify the Features that Should be One-Hot Encoded"
   ]
  },
  {
   "cell_type": "markdown",
   "metadata": {},
   "source": [
    "**Task**: Find all of the columns whose values are of type 'object' and add the column names to a list named `to_encode`."
   ]
  },
  {
   "cell_type": "code",
   "execution_count": 7,
   "metadata": {},
   "outputs": [
    {
     "data": {
      "text/plain": [
       "['neighbourhood_group_cleansed', 'room_type']"
      ]
     },
     "execution_count": 7,
     "metadata": {},
     "output_type": "execute_result"
    }
   ],
   "source": [
    "to_encode = df.select_dtypes(include=['object']).columns.tolist()\n",
    "to_encode"
   ]
  },
  {
   "cell_type": "markdown",
   "metadata": {},
   "source": [
    "**Task**: Find the number of unique values each column in `to_encode` has:"
   ]
  },
  {
   "cell_type": "code",
   "execution_count": 8,
   "metadata": {},
   "outputs": [
    {
     "data": {
      "text/plain": [
       "neighbourhood_group_cleansed    5\n",
       "room_type                       4\n",
       "dtype: int64"
      ]
     },
     "execution_count": 8,
     "metadata": {},
     "output_type": "execute_result"
    }
   ],
   "source": [
    "df[to_encode].nunique()"
   ]
  },
  {
   "cell_type": "markdown",
   "metadata": {},
   "source": [
    "#### One-Hot Encode the Features"
   ]
  },
  {
   "cell_type": "markdown",
   "metadata": {},
   "source": [
    "Instead of one-hot encoding each column using the NumPy `np.where()` or Pandas `pd.get_dummies()` functions, we can use the more robust `OneHotEncoder` transformation class from `sklearn`. For more information, consult the online [documentation](https://scikit-learn.org/stable/modules/generated/sklearn.preprocessing.OneHotEncoder.html). "
   ]
  },
  {
   "cell_type": "markdown",
   "metadata": {},
   "source": [
    "\n",
    "<b><i>Note:</i></b> We are working with `sklearn` version 0.22.2. You can find documentation for the `OneHotEncoder` class that that corresponds to our version of `sklearn` [here](https://scikit-learn.org/0.20/modules/generated/sklearn.preprocessing.OneHotEncoder.html). When choosing which features of the  `OneHotEncoder` class to use, do not use features that have been introduced in newer versions of `sklearn`. For example, you should specify the parameter `sparse=False` when calling `OneHotEncoder()` to create an encoder object. The documentation notes that the latest version of `sklearn` uses the `sparse_ouput` parameter instead of `sparse`, but you should stick with `sparse`.\n",
    "\n",
    "<b>Task</b>: Refer to the documenation and follow the instructions in the code cell below to create one-hot encoded features."
   ]
  },
  {
   "cell_type": "code",
   "execution_count": 9,
   "metadata": {},
   "outputs": [],
   "source": [
    "from sklearn.preprocessing import OneHotEncoder  # Import OneHotEncoder\n",
    "\n",
    "# Create the encoder:\n",
    "# Create the  Scikit-learn OneHotEncoder object below and assign to variable 'enc'.\n",
    "# When calling OneHotEncoder(), specify that the 'sparse' parameter is False\n",
    "enc = OneHotEncoder(sparse = False, handle_unknown='ignore')\n",
    "\n",
    "# Apply the encoder:\n",
    "# Use the method 'enc.fit_transform() to fit the encoder to the data (the two columns) and transform the data into \n",
    "# one-hot encoded values\n",
    "# Convert the results to a DataFrame and save it to variable 'df_enc'\n",
    "df_enc = pd.DataFrame(enc.fit_transform(df[to_encode]))\n",
    "\n"
   ]
  },
  {
   "cell_type": "markdown",
   "metadata": {},
   "source": [
    "Let's inspect our new DataFrame `df_enc` that contains the one-hot encoded columns."
   ]
  },
  {
   "cell_type": "code",
   "execution_count": 11,
   "metadata": {},
   "outputs": [
    {
     "data": {
      "text/html": [
       "<div>\n",
       "<style scoped>\n",
       "    .dataframe tbody tr th:only-of-type {\n",
       "        vertical-align: middle;\n",
       "    }\n",
       "\n",
       "    .dataframe tbody tr th {\n",
       "        vertical-align: top;\n",
       "    }\n",
       "\n",
       "    .dataframe thead th {\n",
       "        text-align: right;\n",
       "    }\n",
       "</style>\n",
       "<table border=\"1\" class=\"dataframe\">\n",
       "  <thead>\n",
       "    <tr style=\"text-align: right;\">\n",
       "      <th></th>\n",
       "      <th>0</th>\n",
       "      <th>1</th>\n",
       "      <th>2</th>\n",
       "      <th>3</th>\n",
       "      <th>4</th>\n",
       "      <th>5</th>\n",
       "      <th>6</th>\n",
       "      <th>7</th>\n",
       "      <th>8</th>\n",
       "    </tr>\n",
       "  </thead>\n",
       "  <tbody>\n",
       "    <tr>\n",
       "      <th>0</th>\n",
       "      <td>0.0</td>\n",
       "      <td>0.0</td>\n",
       "      <td>1.0</td>\n",
       "      <td>0.0</td>\n",
       "      <td>0.0</td>\n",
       "      <td>1.0</td>\n",
       "      <td>0.0</td>\n",
       "      <td>0.0</td>\n",
       "      <td>0.0</td>\n",
       "    </tr>\n",
       "    <tr>\n",
       "      <th>1</th>\n",
       "      <td>0.0</td>\n",
       "      <td>1.0</td>\n",
       "      <td>0.0</td>\n",
       "      <td>0.0</td>\n",
       "      <td>0.0</td>\n",
       "      <td>1.0</td>\n",
       "      <td>0.0</td>\n",
       "      <td>0.0</td>\n",
       "      <td>0.0</td>\n",
       "    </tr>\n",
       "    <tr>\n",
       "      <th>2</th>\n",
       "      <td>0.0</td>\n",
       "      <td>1.0</td>\n",
       "      <td>0.0</td>\n",
       "      <td>0.0</td>\n",
       "      <td>0.0</td>\n",
       "      <td>1.0</td>\n",
       "      <td>0.0</td>\n",
       "      <td>0.0</td>\n",
       "      <td>0.0</td>\n",
       "    </tr>\n",
       "    <tr>\n",
       "      <th>3</th>\n",
       "      <td>0.0</td>\n",
       "      <td>0.0</td>\n",
       "      <td>1.0</td>\n",
       "      <td>0.0</td>\n",
       "      <td>0.0</td>\n",
       "      <td>0.0</td>\n",
       "      <td>0.0</td>\n",
       "      <td>1.0</td>\n",
       "      <td>0.0</td>\n",
       "    </tr>\n",
       "    <tr>\n",
       "      <th>4</th>\n",
       "      <td>0.0</td>\n",
       "      <td>0.0</td>\n",
       "      <td>1.0</td>\n",
       "      <td>0.0</td>\n",
       "      <td>0.0</td>\n",
       "      <td>0.0</td>\n",
       "      <td>0.0</td>\n",
       "      <td>1.0</td>\n",
       "      <td>0.0</td>\n",
       "    </tr>\n",
       "  </tbody>\n",
       "</table>\n",
       "</div>"
      ],
      "text/plain": [
       "     0    1    2    3    4    5    6    7    8\n",
       "0  0.0  0.0  1.0  0.0  0.0  1.0  0.0  0.0  0.0\n",
       "1  0.0  1.0  0.0  0.0  0.0  1.0  0.0  0.0  0.0\n",
       "2  0.0  1.0  0.0  0.0  0.0  1.0  0.0  0.0  0.0\n",
       "3  0.0  0.0  1.0  0.0  0.0  0.0  0.0  1.0  0.0\n",
       "4  0.0  0.0  1.0  0.0  0.0  0.0  0.0  1.0  0.0"
      ]
     },
     "execution_count": 11,
     "metadata": {},
     "output_type": "execute_result"
    }
   ],
   "source": [
    "df_enc.head()"
   ]
  },
  {
   "cell_type": "markdown",
   "metadata": {},
   "source": [
    "Notice that the column names are numerical. \n",
    "\n",
    "<b>Task:</b> Complete the code below to reinstate the original column names.\n"
   ]
  },
  {
   "cell_type": "code",
   "execution_count": 10,
   "metadata": {},
   "outputs": [],
   "source": [
    "# Use the method enc.get_feature_names() to reinstate the original column names. \n",
    "# Call the function with the original two column names as arguments.\n",
    "# Save the results to 'df_enc.columns'\n",
    "\n",
    "df_enc.columns = enc.get_feature_names(to_encode)\n"
   ]
  },
  {
   "cell_type": "markdown",
   "metadata": {},
   "source": [
    "Let's inspect our new DataFrame `df_enc` once again."
   ]
  },
  {
   "cell_type": "code",
   "execution_count": 11,
   "metadata": {},
   "outputs": [
    {
     "data": {
      "text/html": [
       "<div>\n",
       "<style scoped>\n",
       "    .dataframe tbody tr th:only-of-type {\n",
       "        vertical-align: middle;\n",
       "    }\n",
       "\n",
       "    .dataframe tbody tr th {\n",
       "        vertical-align: top;\n",
       "    }\n",
       "\n",
       "    .dataframe thead th {\n",
       "        text-align: right;\n",
       "    }\n",
       "</style>\n",
       "<table border=\"1\" class=\"dataframe\">\n",
       "  <thead>\n",
       "    <tr style=\"text-align: right;\">\n",
       "      <th></th>\n",
       "      <th>neighbourhood_group_cleansed_Bronx</th>\n",
       "      <th>neighbourhood_group_cleansed_Brooklyn</th>\n",
       "      <th>neighbourhood_group_cleansed_Manhattan</th>\n",
       "      <th>neighbourhood_group_cleansed_Queens</th>\n",
       "      <th>neighbourhood_group_cleansed_Staten Island</th>\n",
       "      <th>room_type_Entire home/apt</th>\n",
       "      <th>room_type_Hotel room</th>\n",
       "      <th>room_type_Private room</th>\n",
       "      <th>room_type_Shared room</th>\n",
       "    </tr>\n",
       "  </thead>\n",
       "  <tbody>\n",
       "    <tr>\n",
       "      <th>0</th>\n",
       "      <td>0.0</td>\n",
       "      <td>0.0</td>\n",
       "      <td>1.0</td>\n",
       "      <td>0.0</td>\n",
       "      <td>0.0</td>\n",
       "      <td>1.0</td>\n",
       "      <td>0.0</td>\n",
       "      <td>0.0</td>\n",
       "      <td>0.0</td>\n",
       "    </tr>\n",
       "    <tr>\n",
       "      <th>1</th>\n",
       "      <td>0.0</td>\n",
       "      <td>1.0</td>\n",
       "      <td>0.0</td>\n",
       "      <td>0.0</td>\n",
       "      <td>0.0</td>\n",
       "      <td>1.0</td>\n",
       "      <td>0.0</td>\n",
       "      <td>0.0</td>\n",
       "      <td>0.0</td>\n",
       "    </tr>\n",
       "    <tr>\n",
       "      <th>2</th>\n",
       "      <td>0.0</td>\n",
       "      <td>1.0</td>\n",
       "      <td>0.0</td>\n",
       "      <td>0.0</td>\n",
       "      <td>0.0</td>\n",
       "      <td>1.0</td>\n",
       "      <td>0.0</td>\n",
       "      <td>0.0</td>\n",
       "      <td>0.0</td>\n",
       "    </tr>\n",
       "    <tr>\n",
       "      <th>3</th>\n",
       "      <td>0.0</td>\n",
       "      <td>0.0</td>\n",
       "      <td>1.0</td>\n",
       "      <td>0.0</td>\n",
       "      <td>0.0</td>\n",
       "      <td>0.0</td>\n",
       "      <td>0.0</td>\n",
       "      <td>1.0</td>\n",
       "      <td>0.0</td>\n",
       "    </tr>\n",
       "    <tr>\n",
       "      <th>4</th>\n",
       "      <td>0.0</td>\n",
       "      <td>0.0</td>\n",
       "      <td>1.0</td>\n",
       "      <td>0.0</td>\n",
       "      <td>0.0</td>\n",
       "      <td>0.0</td>\n",
       "      <td>0.0</td>\n",
       "      <td>1.0</td>\n",
       "      <td>0.0</td>\n",
       "    </tr>\n",
       "    <tr>\n",
       "      <th>5</th>\n",
       "      <td>0.0</td>\n",
       "      <td>1.0</td>\n",
       "      <td>0.0</td>\n",
       "      <td>0.0</td>\n",
       "      <td>0.0</td>\n",
       "      <td>0.0</td>\n",
       "      <td>0.0</td>\n",
       "      <td>1.0</td>\n",
       "      <td>0.0</td>\n",
       "    </tr>\n",
       "    <tr>\n",
       "      <th>6</th>\n",
       "      <td>0.0</td>\n",
       "      <td>1.0</td>\n",
       "      <td>0.0</td>\n",
       "      <td>0.0</td>\n",
       "      <td>0.0</td>\n",
       "      <td>1.0</td>\n",
       "      <td>0.0</td>\n",
       "      <td>0.0</td>\n",
       "      <td>0.0</td>\n",
       "    </tr>\n",
       "    <tr>\n",
       "      <th>7</th>\n",
       "      <td>0.0</td>\n",
       "      <td>0.0</td>\n",
       "      <td>1.0</td>\n",
       "      <td>0.0</td>\n",
       "      <td>0.0</td>\n",
       "      <td>0.0</td>\n",
       "      <td>0.0</td>\n",
       "      <td>1.0</td>\n",
       "      <td>0.0</td>\n",
       "    </tr>\n",
       "    <tr>\n",
       "      <th>8</th>\n",
       "      <td>0.0</td>\n",
       "      <td>1.0</td>\n",
       "      <td>0.0</td>\n",
       "      <td>0.0</td>\n",
       "      <td>0.0</td>\n",
       "      <td>0.0</td>\n",
       "      <td>0.0</td>\n",
       "      <td>1.0</td>\n",
       "      <td>0.0</td>\n",
       "    </tr>\n",
       "    <tr>\n",
       "      <th>9</th>\n",
       "      <td>0.0</td>\n",
       "      <td>1.0</td>\n",
       "      <td>0.0</td>\n",
       "      <td>0.0</td>\n",
       "      <td>0.0</td>\n",
       "      <td>1.0</td>\n",
       "      <td>0.0</td>\n",
       "      <td>0.0</td>\n",
       "      <td>0.0</td>\n",
       "    </tr>\n",
       "  </tbody>\n",
       "</table>\n",
       "</div>"
      ],
      "text/plain": [
       "   neighbourhood_group_cleansed_Bronx  neighbourhood_group_cleansed_Brooklyn  \\\n",
       "0                                 0.0                                    0.0   \n",
       "1                                 0.0                                    1.0   \n",
       "2                                 0.0                                    1.0   \n",
       "3                                 0.0                                    0.0   \n",
       "4                                 0.0                                    0.0   \n",
       "5                                 0.0                                    1.0   \n",
       "6                                 0.0                                    1.0   \n",
       "7                                 0.0                                    0.0   \n",
       "8                                 0.0                                    1.0   \n",
       "9                                 0.0                                    1.0   \n",
       "\n",
       "   neighbourhood_group_cleansed_Manhattan  \\\n",
       "0                                     1.0   \n",
       "1                                     0.0   \n",
       "2                                     0.0   \n",
       "3                                     1.0   \n",
       "4                                     1.0   \n",
       "5                                     0.0   \n",
       "6                                     0.0   \n",
       "7                                     1.0   \n",
       "8                                     0.0   \n",
       "9                                     0.0   \n",
       "\n",
       "   neighbourhood_group_cleansed_Queens  \\\n",
       "0                                  0.0   \n",
       "1                                  0.0   \n",
       "2                                  0.0   \n",
       "3                                  0.0   \n",
       "4                                  0.0   \n",
       "5                                  0.0   \n",
       "6                                  0.0   \n",
       "7                                  0.0   \n",
       "8                                  0.0   \n",
       "9                                  0.0   \n",
       "\n",
       "   neighbourhood_group_cleansed_Staten Island  room_type_Entire home/apt  \\\n",
       "0                                         0.0                        1.0   \n",
       "1                                         0.0                        1.0   \n",
       "2                                         0.0                        1.0   \n",
       "3                                         0.0                        0.0   \n",
       "4                                         0.0                        0.0   \n",
       "5                                         0.0                        0.0   \n",
       "6                                         0.0                        1.0   \n",
       "7                                         0.0                        0.0   \n",
       "8                                         0.0                        0.0   \n",
       "9                                         0.0                        1.0   \n",
       "\n",
       "   room_type_Hotel room  room_type_Private room  room_type_Shared room  \n",
       "0                   0.0                     0.0                    0.0  \n",
       "1                   0.0                     0.0                    0.0  \n",
       "2                   0.0                     0.0                    0.0  \n",
       "3                   0.0                     1.0                    0.0  \n",
       "4                   0.0                     1.0                    0.0  \n",
       "5                   0.0                     1.0                    0.0  \n",
       "6                   0.0                     0.0                    0.0  \n",
       "7                   0.0                     1.0                    0.0  \n",
       "8                   0.0                     1.0                    0.0  \n",
       "9                   0.0                     0.0                    0.0  "
      ]
     },
     "execution_count": 11,
     "metadata": {},
     "output_type": "execute_result"
    }
   ],
   "source": [
    "df_enc.head(10)"
   ]
  },
  {
   "cell_type": "markdown",
   "metadata": {},
   "source": [
    "<b>Task</b>: You can now remove the original columns that we have just transformed from DataFrame `df`.\n"
   ]
  },
  {
   "cell_type": "code",
   "execution_count": 12,
   "metadata": {},
   "outputs": [],
   "source": [
    "df.drop(columns = to_encode, inplace = True)"
   ]
  },
  {
   "cell_type": "markdown",
   "metadata": {},
   "source": [
    "<b>Task</b>: You can now join the transformed features contained in `df_enc` with DataFrame `df`"
   ]
  },
  {
   "cell_type": "code",
   "execution_count": 13,
   "metadata": {},
   "outputs": [],
   "source": [
    "df = df.join(df_enc)"
   ]
  },
  {
   "cell_type": "markdown",
   "metadata": {},
   "source": [
    "Glance at the resulting column names:"
   ]
  },
  {
   "cell_type": "code",
   "execution_count": 14,
   "metadata": {},
   "outputs": [
    {
     "data": {
      "text/plain": [
       "Index(['host_response_rate', 'host_acceptance_rate', 'host_is_superhost',\n",
       "       'host_listings_count', 'host_total_listings_count',\n",
       "       'host_has_profile_pic', 'host_identity_verified', 'accommodates',\n",
       "       'bathrooms', 'bedrooms', 'beds', 'price', 'minimum_nights',\n",
       "       'maximum_nights', 'minimum_minimum_nights', 'maximum_minimum_nights',\n",
       "       'minimum_maximum_nights', 'maximum_maximum_nights',\n",
       "       'minimum_nights_avg_ntm', 'maximum_nights_avg_ntm', 'has_availability',\n",
       "       'availability_30', 'availability_60', 'availability_90',\n",
       "       'availability_365', 'number_of_reviews', 'number_of_reviews_ltm',\n",
       "       'number_of_reviews_l30d', 'review_scores_rating',\n",
       "       'review_scores_cleanliness', 'review_scores_checkin',\n",
       "       'review_scores_communication', 'review_scores_location',\n",
       "       'review_scores_value', 'instant_bookable',\n",
       "       'calculated_host_listings_count',\n",
       "       'calculated_host_listings_count_entire_homes',\n",
       "       'calculated_host_listings_count_private_rooms',\n",
       "       'calculated_host_listings_count_shared_rooms', 'reviews_per_month',\n",
       "       'n_host_verifications', 'neighbourhood_group_cleansed_Bronx',\n",
       "       'neighbourhood_group_cleansed_Brooklyn',\n",
       "       'neighbourhood_group_cleansed_Manhattan',\n",
       "       'neighbourhood_group_cleansed_Queens',\n",
       "       'neighbourhood_group_cleansed_Staten Island',\n",
       "       'room_type_Entire home/apt', 'room_type_Hotel room',\n",
       "       'room_type_Private room', 'room_type_Shared room'],\n",
       "      dtype='object')"
      ]
     },
     "execution_count": 14,
     "metadata": {},
     "output_type": "execute_result"
    }
   ],
   "source": [
    "df.columns"
   ]
  },
  {
   "cell_type": "markdown",
   "metadata": {},
   "source": [
    "## Part 3. Create Labeled Examples from the Data Set "
   ]
  },
  {
   "cell_type": "markdown",
   "metadata": {},
   "source": [
    "<b>Task</b>: Obtain the feature columns from DataFrame `df` and assign to `X`. Obtain the label column from DataFrame `df` and assign to `y`.\n"
   ]
  },
  {
   "cell_type": "code",
   "execution_count": 15,
   "metadata": {},
   "outputs": [],
   "source": [
    "X = df.drop(columns = ['host_is_superhost'])\n",
    "y = df['host_is_superhost']"
   ]
  },
  {
   "cell_type": "code",
   "execution_count": 16,
   "metadata": {},
   "outputs": [
    {
     "name": "stdout",
     "output_type": "stream",
     "text": [
      "Number of examples: 28022\n",
      "\n",
      "Number of Features:49\n",
      "['host_response_rate', 'host_acceptance_rate', 'host_listings_count', 'host_total_listings_count', 'host_has_profile_pic', 'host_identity_verified', 'accommodates', 'bathrooms', 'bedrooms', 'beds', 'price', 'minimum_nights', 'maximum_nights', 'minimum_minimum_nights', 'maximum_minimum_nights', 'minimum_maximum_nights', 'maximum_maximum_nights', 'minimum_nights_avg_ntm', 'maximum_nights_avg_ntm', 'has_availability', 'availability_30', 'availability_60', 'availability_90', 'availability_365', 'number_of_reviews', 'number_of_reviews_ltm', 'number_of_reviews_l30d', 'review_scores_rating', 'review_scores_cleanliness', 'review_scores_checkin', 'review_scores_communication', 'review_scores_location', 'review_scores_value', 'instant_bookable', 'calculated_host_listings_count', 'calculated_host_listings_count_entire_homes', 'calculated_host_listings_count_private_rooms', 'calculated_host_listings_count_shared_rooms', 'reviews_per_month', 'n_host_verifications', 'neighbourhood_group_cleansed_Bronx', 'neighbourhood_group_cleansed_Brooklyn', 'neighbourhood_group_cleansed_Manhattan', 'neighbourhood_group_cleansed_Queens', 'neighbourhood_group_cleansed_Staten Island', 'room_type_Entire home/apt', 'room_type_Hotel room', 'room_type_Private room', 'room_type_Shared room']\n"
     ]
    }
   ],
   "source": [
    "print(\"Number of examples: \" + str(X.shape[0]))\n",
    "print(\"\\nNumber of Features:\" + str(X.shape[1]))\n",
    "print(str(list(X.columns)))"
   ]
  },
  {
   "cell_type": "markdown",
   "metadata": {},
   "source": [
    "## Part 4. Create Training and Test Data Sets"
   ]
  },
  {
   "cell_type": "markdown",
   "metadata": {},
   "source": [
    "<b>Task</b>: In the code cell below create training and test sets out of the labeled examples using Scikit-learn's `train_test_split()` function. Save the results to variables `X_train, X_test, y_train, y_test`.\n",
    "\n",
    "Specify:\n",
    "1. A test set that is one third (.33) of the size of the data set.\n",
    "2. A seed value of '123'. "
   ]
  },
  {
   "cell_type": "code",
   "execution_count": 17,
   "metadata": {},
   "outputs": [],
   "source": [
    "X_train, X_test, y_train, y_test = train_test_split(X, y, test_size = 0.33, random_state = 123)\n"
   ]
  },
  {
   "cell_type": "markdown",
   "metadata": {},
   "source": [
    "<b>Task</b>: Check the dimensions of the training and test datasets."
   ]
  },
  {
   "cell_type": "code",
   "execution_count": 18,
   "metadata": {},
   "outputs": [
    {
     "name": "stdout",
     "output_type": "stream",
     "text": [
      "(18774, 49)\n",
      "(9248, 49)\n"
     ]
    }
   ],
   "source": [
    "print(X_train.shape)\n",
    "print(X_test.shape)"
   ]
  },
  {
   "cell_type": "markdown",
   "metadata": {},
   "source": [
    "## Part 5. Train Decision Tree Classifers and Evaluate their Performances"
   ]
  },
  {
   "cell_type": "markdown",
   "metadata": {},
   "source": [
    "The code cell below contains a function definition named `train_test_DT()`. This function should:\n",
    "1. train a Decision Tree classifier on the training data (Remember to use ```DecisionTreeClassifier()``` to create a model object.)\n",
    "2. test the resulting model on the test data\n",
    "3. compute and return the accuracy score of the resulting predicted class labels on the test data. \n",
    "\n",
    "<b>Task:</b> Complete the function to make it work."
   ]
  },
  {
   "cell_type": "code",
   "execution_count": 19,
   "metadata": {},
   "outputs": [],
   "source": [
    "def train_test_DT(X_train, X_test, y_train, y_test, depth, leaf=1, crit='entropy'):\n",
    "    \n",
    "    # 1. Create the Scikit-learn DecisionTreeClassifier model object\n",
    "    model = DecisionTreeClassifier(criterion = crit, max_depth = depth, min_samples_leaf = leaf)\n",
    "    \n",
    "    # 2. Fit the model to the training data\n",
    "    model.fit(X_train, y_train)\n",
    "    \n",
    "    # 3. Make predictions on the test data \n",
    "    class_label_predictions = model.predict(X_test)\n",
    "\n",
    "    # 4. Compute the accuracy\n",
    "    acc_score = accuracy_score(y_test, class_label_predictions)\n",
    "    \n",
    "    return acc_score\n",
    "    "
   ]
  },
  {
   "cell_type": "markdown",
   "metadata": {},
   "source": [
    "#### Train Two Decision Trees and Evaluate Their Performances"
   ]
  },
  {
   "cell_type": "markdown",
   "metadata": {},
   "source": [
    "<b>Task:</b> Use your function to train two different decision trees, one with a max depth of $8$ and one with a max depth of $32$. Print the max depth and corresponding accuracy score."
   ]
  },
  {
   "cell_type": "code",
   "execution_count": 20,
   "metadata": {},
   "outputs": [
    {
     "name": "stdout",
     "output_type": "stream",
     "text": [
      "Accuracy for Decision Tree with max depth 8: 0.8333693771626297\n",
      "Accuracy for Decision Tree with max depth 32: 0.8028762975778547\n"
     ]
    }
   ],
   "source": [
    "# Define the depths for the two Decision Trees\n",
    "depth_1 = 8\n",
    "depth_2 = 32\n",
    "\n",
    "# Train the first Decision Tree with max depth of 8 and evaluate its performance\n",
    "accuracy_1 = train_test_DT(X_train, X_test, y_train, y_test, depth_1)\n",
    "print(f\"Accuracy for Decision Tree with max depth {depth_1}: {accuracy_1}\")\n",
    "\n",
    "# Train the second Decision Tree with max depth of 32 and evaluate its performance\n",
    "accuracy_2 = train_test_DT(X_train, X_test, y_train, y_test, depth_2)\n",
    "print(f\"Accuracy for Decision Tree with max depth {depth_2}: {accuracy_2}\")\n",
    "\n"
   ]
  },
  {
   "cell_type": "markdown",
   "metadata": {},
   "source": [
    "#### Visualize Accuracy"
   ]
  },
  {
   "cell_type": "markdown",
   "metadata": {},
   "source": [
    "We will be creating multiple visualizations that plot a specific model's hyperparameter value (such as max depth) and the resulting accuracy score of the model.\n",
    "\n",
    "To create more clean and maintainable code, we will create one visualization function that can be called every time a plot is needed. \n",
    "\n",
    "<b>Task:</b> In the code cell below, create a function called `visualize_accuracy()` that accepts two arguments:\n",
    "\n",
    "1. a list of hyperparamter values\n",
    "2. a list of accuracy scores\n",
    "\n",
    "Both lists must be of the same size.\n",
    "\n",
    "Inside the function, implement a `seaborn` lineplot in which hyperparameter values will be on the x-axis and accuracy scores will be on the y-axis. <i>Hint</i>: You implemented a lineplot in this week's assignment."
   ]
  },
  {
   "cell_type": "code",
   "execution_count": 21,
   "metadata": {},
   "outputs": [],
   "source": [
    "def visualize_accuracy(hyperparameter_values, accuracy_scores):\n",
    "    \"\"\"\n",
    "    Function to visualize accuracy scores as a function of hyperparameter values.\n",
    "    \n",
    "    Parameters:\n",
    "    hyperparameter_values (list): A list of hyperparameter values.\n",
    "    accuracy_scores (list): A list of accuracy scores corresponding to the hyperparameter values.\n",
    "    \n",
    "    Returns:\n",
    "    None\n",
    "    \"\"\"\n",
    "    # Ensure that both lists are of the same size\n",
    "    assert len(hyperparameter_values) == len(accuracy_scores), \"The lists must be of the same size.\"\n",
    "    \n",
    "    # Create a DataFrame for plotting\n",
    "    data = pd.DataFrame({\n",
    "        'Hyperparameter': hyperparameter_values,\n",
    "        'Accuracy': accuracy_scores\n",
    "    })\n",
    "    \n",
    "    # Create the seaborn lineplot\n",
    "    plt.figure(figsize=(10, 6))\n",
    "    sns.lineplot(x='Hyperparameter', y='Accuracy', data=data, marker='o')\n",
    "    plt.title('Model Accuracy vs. Hyperparameter Value')\n",
    "    plt.xlabel('Hyperparameter Value')\n",
    "    plt.ylabel('Accuracy')\n",
    "    plt.grid(True)\n",
    "    plt.show()\n",
    "\n"
   ]
  },
  {
   "cell_type": "markdown",
   "metadata": {},
   "source": [
    "<b>Task</b>: Test your visualization function below by calling the function to plot the max depth values and accuracy scores of the two decision trees that you just trained."
   ]
  },
  {
   "cell_type": "code",
   "execution_count": 22,
   "metadata": {},
   "outputs": [
    {
     "data": {
      "image/png": "[encoded data removed]",
      "text/plain": [
       "<Figure size 720x432 with 1 Axes>"
      ]
     },
     "metadata": {
      "needs_background": "light"
     },
     "output_type": "display_data"
    }
   ],
   "source": [
    "# Define the max depth values and their corresponding accuracy scores\n",
    "depths = [8, 32]\n",
    "accuracies = [0.8331531141868512, 0.8038494809688581]\n",
    "\n",
    "# Test the visualize_accuracy function\n",
    "visualize_accuracy(depths, accuracies)"
   ]
  },
  {
   "cell_type": "markdown",
   "metadata": {},
   "source": [
    "<b>Analysis</b>: Does this graph provide a sufficient visualization for determining a value of max depth that produces a high performing model?"
   ]
  },
  {
   "cell_type": "markdown",
   "metadata": {},
   "source": [
    "The generated plot shows the accuracy of two Decision Tree models with different max depths (8 and 32). While this visualization provides some insight into how the model's performance changes with different max depths, it is limited because it only includes two points. This makes it difficult to determine an optimal value for max depth that produces a high-performing model. \n",
    "\n",
    "To determine a value of max depth that produces a high-performing model, it would be beneficial to train and evaluate Decision Tree models over a wider range of max depth values. By plotting the accuracy scores for these models, we can observe trends and identify an optimal max depth more effectively.\n"
   ]
  },
  {
   "cell_type": "markdown",
   "metadata": {},
   "source": [
    "#### Train Multiple Decision Trees Using Different Hyperparameter Values and Evaluate Their Performances"
   ]
  },
  {
   "cell_type": "markdown",
   "metadata": {},
   "source": [
    "<b>Task:</b> Let's train on more values for max depth.\n",
    "\n",
    "1. Train six different decision trees, using the following values for max depth: $1, 2, 4, 8, 16, 32$\n",
    "2. Use your visualization function to plot the values of max depth and each model's resulting accuracy score."
   ]
  },
  {
   "cell_type": "code",
   "execution_count": 23,
   "metadata": {
    "scrolled": true
   },
   "outputs": [
    {
     "name": "stdout",
     "output_type": "stream",
     "text": [
      "Accuracy for Decision Tree with max depth 1: 0.7563797577854672\n",
      "Accuracy for Decision Tree with max depth 2: 0.7563797577854672\n",
      "Accuracy for Decision Tree with max depth 4: 0.810878027681661\n",
      "Accuracy for Decision Tree with max depth 8: 0.8332612456747405\n",
      "Accuracy for Decision Tree with max depth 16: 0.8142301038062284\n",
      "Accuracy for Decision Tree with max depth 32: 0.8053633217993079\n"
     ]
    },
    {
     "data": {
      "image/png": "[encoded data removed]",
      "text/plain": [
       "<Figure size 720x432 with 1 Axes>"
      ]
     },
     "metadata": {
      "needs_background": "light"
     },
     "output_type": "display_data"
    }
   ],
   "source": [
    "# Define the max depth values to evaluate\n",
    "depths = [1, 2, 4, 8, 16, 32]\n",
    "\n",
    "# Initialize a list to store the accuracy scores\n",
    "accuracies = []\n",
    "\n",
    "# Train and evaluate Decision Trees with different depths\n",
    "for depth in depths:\n",
    "    accuracy = train_test_DT(X_train, X_test, y_train, y_test, depth)\n",
    "    accuracies.append(accuracy)\n",
    "    print(f\"Accuracy for Decision Tree with max depth {depth}: {accuracy}\")\n",
    "\n",
    "# Use the visualize_accuracy function to plot the results\n",
    "visualize_accuracy(depths, accuracies)"
   ]
  },
  {
   "cell_type": "markdown",
   "metadata": {},
   "source": [
    "<b>Analysis</b>: Analyze this graph. Pay attention to the accuracy scores. Answer the following questions in the cell below.<br>\n",
    "\n",
    "How would you go about choosing the best model configuration based on this plot? <br>\n",
    "What other hyperparameters of interest would you want to tune to make sure you are finding the best performing model?"
   ]
  },
  {
   "cell_type": "markdown",
   "metadata": {},
   "source": [
    "1) Identifying the Peak Accuracy: The model with a max depth of 8 achieves the highest accuracy (0.8332). This suggests that a max depth of 8 is optimal for this dataset, as increasing the depth beyond this value does not improve performance and even leads to a slight decline.\n",
    "\n",
    "2) Consider Overfitting: While deeper trees (higher max depths) can capture more complex patterns in the training data, they may also overfit, leading to poorer generalization on test data. The decline in accuracy at max depths 16 and 32 could indicate overfitting.\n",
    "\n",
    "3) Balance Complexity and Performance: The plot shows that while increasing the max depth from 1 to 8 improves accuracy, further increases reduce accuracy. Thus, a max depth of 8 balances model complexity and performance effectively.\n",
    "\n",
    "Additional Hyperparameters to Tune:\n",
    "\n",
    "1) Minimum Samples Split (min_samples_split): The minimum number of samples required to split an internal node. Increasing this value can prevent the model from learning overly specific patterns.\n",
    "\n",
    "2) Minimum Samples Leaf (min_samples_leaf): The minimum number of samples required to be at a leaf node. Setting this value helps prevent overfitting by ensuring that leaf nodes have a minimum number of samples.\n",
    "\n",
    "3) Maximum Features (max_features): The number of features to consider when looking for the best split. Limiting the number of features can reduce variance and help the model generalize better.\n",
    "\n",
    "4) Criterion: The function to measure the quality of a split (gini for Gini impurity or entropy for information gain). Trying different criteria can lead to different splits and potentially better models.\n",
    "\n",
    "5) Random State: A seed value to ensure reproducibility. Using different random states can provide a sense of model stability and performance across various random partitions of the data.\n"
   ]
  },
  {
   "cell_type": "markdown",
   "metadata": {},
   "source": [
    "## Part 6. Train KNN Classifiers and Evaluate their Performances\n"
   ]
  },
  {
   "cell_type": "markdown",
   "metadata": {},
   "source": [
    "The code cell below contains function definition named `train_test_knn()`. This function should:\n",
    "1. train a KNN classifier on the training data (Remember to use ```KNeighborsClassifier()``` to create a model object).\n",
    "2. test the resulting model on the test data\n",
    "3. compute and return the accuracy score of the resulting predicted class labels on the test data. \n",
    "\n",
    "<i>Note</i>: You will train KNN classifiers using the same training and test data that you used to train decision trees.\n",
    "\n",
    "<b>Task:</b> Complete the function to make it work."
   ]
  },
  {
   "cell_type": "code",
   "execution_count": 25,
   "metadata": {},
   "outputs": [],
   "source": [
    "def train_test_knn(X_train, X_test, y_train, y_test, k):\n",
    "    \n",
    "   # Create the KNeighborsClassifier object with the specified number of neighbors\n",
    "    model = KNeighborsClassifier(n_neighbors=k)\n",
    "    \n",
    "    # Train the classifier on the training data\n",
    "    model.fit(X_train, y_train)\n",
    "    \n",
    "    # Predict the labels for the test data\n",
    "    prediction = model.predict(X_test)\n",
    "    \n",
    "    # Compute and return the accuracy score\n",
    "    accuracy = accuracy_score(y_test, prediction)\n",
    "    \n",
    "    return accuracy\n"
   ]
  },
  {
   "cell_type": "markdown",
   "metadata": {},
   "source": [
    "#### Train Three KNN Classifiers and Evaluate Their Performances\n",
    "\n",
    "<b>Task:</b> Use your function to train three different KNN classifiers, each with a different value for hyperparameter $k$: $3, 30$, and $300$. <i>Note</i>: This make take a second.\n"
   ]
  },
  {
   "cell_type": "code",
   "execution_count": 26,
   "metadata": {},
   "outputs": [
    {
     "name": "stdout",
     "output_type": "stream",
     "text": [
      "Accuracy for KNN with k=3: 0.759515570934256\n",
      "Accuracy for KNN with k=30: 0.7755190311418685\n",
      "Accuracy for KNN with k=300: 0.7696799307958477\n"
     ]
    }
   ],
   "source": [
    "# Define the values for k to evaluate\n",
    "k_values = [3, 30, 300]\n",
    "\n",
    "# Initialize a list to store the accuracy scores\n",
    "knn_accuracies = []\n",
    "\n",
    "# Train and evaluate KNN classifiers with different values of k\n",
    "for k in k_values:\n",
    "    accuracy = train_test_knn(X_train, X_test, y_train, y_test, k)\n",
    "    knn_accuracies.append(accuracy)\n",
    "    print(f\"Accuracy for KNN with k={k}: {accuracy}\")\n",
    "    \n",
    "    "
   ]
  },
  {
   "cell_type": "markdown",
   "metadata": {},
   "source": [
    "<b>Task:</b> Now call the function `visualize_accuracy()` with the appropriate arguments to plot the results."
   ]
  },
  {
   "cell_type": "code",
   "execution_count": 27,
   "metadata": {},
   "outputs": [
    {
     "data": {
      "image/png": "[encoded data removed]",
      "text/plain": [
       "<Figure size 720x432 with 1 Axes>"
      ]
     },
     "metadata": {
      "needs_background": "light"
     },
     "output_type": "display_data"
    }
   ],
   "source": [
    "# Use the visualize_accuracy function to plot the results\n",
    "visualize_accuracy(k_values, knn_accuracies)\n"
   ]
  },
  {
   "cell_type": "markdown",
   "metadata": {},
   "source": [
    "#### Train Multiple KNN Classifiers Using Different Hyperparameter Values and Evaluate Their Performances"
   ]
  },
  {
   "cell_type": "markdown",
   "metadata": {},
   "source": [
    "<b>Task:</b> Let's train on more values for $k$.\n",
    "\n",
    "1. Array `k_range` contains multiple values for hyperparameter $k$. Train one KNN model per value of $k$\n",
    "2. Use your visualization function to plot the values of $k$ and each model's resulting accuracy score.\n",
    "\n",
    "<i>Note</i>: This make take a second."
   ]
  },
  {
   "cell_type": "code",
   "execution_count": 29,
   "metadata": {},
   "outputs": [
    {
     "data": {
      "text/plain": [
       "array([ 1,  4,  7, 10, 13, 16, 19, 22, 25, 28, 31, 34, 37])"
      ]
     },
     "execution_count": 29,
     "metadata": {},
     "output_type": "execute_result"
    }
   ],
   "source": [
    "k_range = np.arange(1, 40, step = 3) \n",
    "k_range"
   ]
  },
  {
   "cell_type": "code",
   "execution_count": 30,
   "metadata": {
    "scrolled": false
   },
   "outputs": [
    {
     "name": "stdout",
     "output_type": "stream",
     "text": [
      "Accuracy for KNN with k=1: 0.7454584775086506\n",
      "Accuracy for KNN with k=4: 0.77530276816609\n",
      "Accuracy for KNN with k=7: 0.7654628027681661\n",
      "Accuracy for KNN with k=10: 0.7743295847750865\n",
      "Accuracy for KNN with k=13: 0.7730320069204152\n",
      "Accuracy for KNN with k=16: 0.7763840830449827\n",
      "Accuracy for KNN with k=19: 0.7754108996539792\n",
      "Accuracy for KNN with k=22: 0.776924740484429\n",
      "Accuracy for KNN with k=25: 0.77530276816609\n",
      "Accuracy for KNN with k=28: 0.7741133217993079\n",
      "Accuracy for KNN with k=31: 0.7756271626297578\n",
      "Accuracy for KNN with k=34: 0.7763840830449827\n",
      "Accuracy for KNN with k=37: 0.7749783737024222\n"
     ]
    },
    {
     "data": {
      "image/png": "[encoded data removed]",
      "text/plain": [
       "<Figure size 720x432 with 1 Axes>"
      ]
     },
     "metadata": {
      "needs_background": "light"
     },
     "output_type": "display_data"
    }
   ],
   "source": [
    "# Initialize a list to store the accuracy scores\n",
    "knn_accuracies = []\n",
    "\n",
    "# Train and evaluate KNN classifiers with different values of k\n",
    "for k in k_range:\n",
    "    accuracy = train_test_knn(X_train, X_test, y_train, y_test, k)\n",
    "    knn_accuracies.append(accuracy)\n",
    "    print(f\"Accuracy for KNN with k={k}: {accuracy}\")\n",
    "\n",
    "# Use the visualize_accuracy function to plot the results\n",
    "visualize_accuracy(k_range, knn_accuracies)\n",
    "\n"
   ]
  },
  {
   "cell_type": "markdown",
   "metadata": {},
   "source": [
    "## Part 7. Analysis\n",
    "\n",
    "1. Compare the performance of the KNN model relative to the Decision Tree model, with various hyperparameter values. Which model performed the best (yielded the highest accuracy score)? Record your findings in the cell below.\n",
    "\n",
    "2. We tuned hyperparameter $k$ for KNNs and hyperparamter max depth for DTs. Consider other hyperparameters that can be tuned in an attempt to find the best performing model. Try a different combination of hyperparamters for both KNNs and DTs, retrain the models, obtain the accuracy scores and record your findings below. \n",
    "\n",
    "    <i>Note:</i> You can consult Scikit-learn documentation for both the [`KNeighborsClassifier`](https://scikit-learn.org/stable/modules/generated/sklearn.neighbors.KNeighborsClassifier.html) class and the [`DecisionTreeClassifier`](https://scikit-learn.org/stable/modules/generated/sklearn.tree.DecisionTreeClassifier.html) class to see how specific hyperparameters are passed as parameters to the model object."
   ]
  },
  {
   "cell_type": "code",
   "execution_count": 31,
   "metadata": {
    "scrolled": true
   },
   "outputs": [
    {
     "name": "stdout",
     "output_type": "stream",
     "text": [
      "KNN (k=3, weights=uniform, metric=euclidean) - Accuracy: 0.759515570934256\n",
      "KNN (k=3, weights=uniform, metric=manhattan) - Accuracy: 0.7749783737024222\n",
      "KNN (k=3, weights=distance, metric=euclidean) - Accuracy: 0.760705017301038\n",
      "KNN (k=3, weights=distance, metric=manhattan) - Accuracy: 0.7773572664359861\n",
      "KNN (k=5, weights=uniform, metric=euclidean) - Accuracy: 0.7648140138408305\n",
      "KNN (k=5, weights=uniform, metric=manhattan) - Accuracy: 0.7826557093425606\n",
      "KNN (k=5, weights=distance, metric=euclidean) - Accuracy: 0.7675173010380623\n",
      "KNN (k=5, weights=distance, metric=manhattan) - Accuracy: 0.7840614186851211\n",
      "KNN (k=7, weights=uniform, metric=euclidean) - Accuracy: 0.7654628027681661\n",
      "KNN (k=7, weights=uniform, metric=manhattan) - Accuracy: 0.7841695501730104\n",
      "KNN (k=7, weights=distance, metric=euclidean) - Accuracy: 0.768598615916955\n",
      "KNN (k=7, weights=distance, metric=manhattan) - Accuracy: 0.7869809688581315\n",
      "KNN (k=10, weights=uniform, metric=euclidean) - Accuracy: 0.7743295847750865\n",
      "KNN (k=10, weights=uniform, metric=manhattan) - Accuracy: 0.7862240484429066\n",
      "KNN (k=10, weights=distance, metric=euclidean) - Accuracy: 0.7757352941176471\n",
      "KNN (k=10, weights=distance, metric=manhattan) - Accuracy: 0.7918468858131488\n",
      "Best KNN configuration: (10, 'distance', 'manhattan') with accuracy: 0.7918468858131488\n"
     ]
    }
   ],
   "source": [
    "# KNN Tuning and Retraining\n",
    "# We'll tune the following hyperparameters for KNN:\n",
    "\n",
    "# weights: 'uniform', 'distance'\n",
    "# metric: 'euclidean', 'manhattan'\n",
    "\n",
    "# Initialize lists to store results\n",
    "knn_parameters = []\n",
    "knn_accuracies = []\n",
    "\n",
    "# Define hyperparameter grid\n",
    "weights_options = ['uniform', 'distance']\n",
    "metric_options = ['euclidean', 'manhattan']\n",
    "k_values = [3, 5, 7, 10]\n",
    "\n",
    "# Loop over combinations of hyperparameters\n",
    "for k in k_values:\n",
    "    for weight in weights_options:\n",
    "        for metric in metric_options:\n",
    "            knn_classifier = KNeighborsClassifier(n_neighbors=k, weights=weight, metric=metric)\n",
    "            knn_classifier.fit(X_train, y_train)\n",
    "            y_pred = knn_classifier.predict(X_test)\n",
    "            accuracy = accuracy_score(y_test, y_pred)\n",
    "            knn_parameters.append((k, weight, metric))\n",
    "            knn_accuracies.append(accuracy)\n",
    "            print(f\"KNN (k={k}, weights={weight}, metric={metric}) - Accuracy: {accuracy}\")\n",
    "\n",
    "# Find the best KNN configuration\n",
    "best_knn_index = knn_accuracies.index(max(knn_accuracies))\n",
    "best_knn_params = knn_parameters[best_knn_index]\n",
    "best_knn_accuracy = knn_accuracies[best_knn_index]\n",
    "\n",
    "print(f\"Best KNN configuration: {best_knn_params} with accuracy: {best_knn_accuracy}\")\n",
    "\n"
   ]
  },
  {
   "cell_type": "code",
   "execution_count": 32,
   "metadata": {},
   "outputs": [
    {
     "name": "stdout",
     "output_type": "stream",
     "text": [
      "DT (max_depth=None, criterion=gini, min_samples_split=2, min_samples_leaf=1) - Accuracy: 0.7980103806228374\n",
      "DT (max_depth=4, criterion=gini, min_samples_split=2, min_samples_leaf=1) - Accuracy: 0.8214749134948097\n",
      "DT (max_depth=8, criterion=gini, min_samples_split=2, min_samples_leaf=1) - Accuracy: 0.8306660899653979\n",
      "DT (max_depth=12, criterion=gini, min_samples_split=2, min_samples_leaf=1) - Accuracy: 0.8255839100346021\n",
      "DT (max_depth=None, criterion=gini, min_samples_split=2, min_samples_leaf=2) - Accuracy: 0.807742214532872\n",
      "DT (max_depth=4, criterion=gini, min_samples_split=2, min_samples_leaf=2) - Accuracy: 0.8214749134948097\n",
      "DT (max_depth=8, criterion=gini, min_samples_split=2, min_samples_leaf=2) - Accuracy: 0.8308823529411765\n",
      "DT (max_depth=12, criterion=gini, min_samples_split=2, min_samples_leaf=2) - Accuracy: 0.8247188581314879\n",
      "DT (max_depth=None, criterion=gini, min_samples_split=2, min_samples_leaf=3) - Accuracy: 0.8053633217993079\n",
      "DT (max_depth=4, criterion=gini, min_samples_split=2, min_samples_leaf=3) - Accuracy: 0.8214749134948097\n",
      "DT (max_depth=8, criterion=gini, min_samples_split=2, min_samples_leaf=3) - Accuracy: 0.8301254325259516\n",
      "DT (max_depth=12, criterion=gini, min_samples_split=2, min_samples_leaf=3) - Accuracy: 0.8228806228373703\n",
      "DT (max_depth=None, criterion=gini, min_samples_split=4, min_samples_leaf=1) - Accuracy: 0.7994160899653979\n",
      "DT (max_depth=4, criterion=gini, min_samples_split=4, min_samples_leaf=1) - Accuracy: 0.8214749134948097\n",
      "DT (max_depth=8, criterion=gini, min_samples_split=4, min_samples_leaf=1) - Accuracy: 0.831098615916955\n",
      "DT (max_depth=12, criterion=gini, min_samples_split=4, min_samples_leaf=1) - Accuracy: 0.8261245674740484\n",
      "DT (max_depth=None, criterion=gini, min_samples_split=4, min_samples_leaf=2) - Accuracy: 0.8086072664359861\n",
      "DT (max_depth=4, criterion=gini, min_samples_split=4, min_samples_leaf=2) - Accuracy: 0.8214749134948097\n",
      "DT (max_depth=8, criterion=gini, min_samples_split=4, min_samples_leaf=2) - Accuracy: 0.831098615916955\n",
      "DT (max_depth=12, criterion=gini, min_samples_split=4, min_samples_leaf=2) - Accuracy: 0.8262326989619377\n",
      "DT (max_depth=None, criterion=gini, min_samples_split=4, min_samples_leaf=3) - Accuracy: 0.8074178200692042\n",
      "DT (max_depth=4, criterion=gini, min_samples_split=4, min_samples_leaf=3) - Accuracy: 0.8214749134948097\n",
      "DT (max_depth=8, criterion=gini, min_samples_split=4, min_samples_leaf=3) - Accuracy: 0.829909169550173\n",
      "DT (max_depth=12, criterion=gini, min_samples_split=4, min_samples_leaf=3) - Accuracy: 0.8240700692041523\n",
      "DT (max_depth=None, criterion=gini, min_samples_split=6, min_samples_leaf=1) - Accuracy: 0.8020112456747405\n",
      "DT (max_depth=4, criterion=gini, min_samples_split=6, min_samples_leaf=1) - Accuracy: 0.8214749134948097\n",
      "DT (max_depth=8, criterion=gini, min_samples_split=6, min_samples_leaf=1) - Accuracy: 0.8306660899653979\n",
      "DT (max_depth=12, criterion=gini, min_samples_split=6, min_samples_leaf=1) - Accuracy: 0.826340830449827\n",
      "DT (max_depth=None, criterion=gini, min_samples_split=6, min_samples_leaf=2) - Accuracy: 0.8087153979238755\n",
      "DT (max_depth=4, criterion=gini, min_samples_split=6, min_samples_leaf=2) - Accuracy: 0.8214749134948097\n",
      "DT (max_depth=8, criterion=gini, min_samples_split=6, min_samples_leaf=2) - Accuracy: 0.8314230103806228\n",
      "DT (max_depth=12, criterion=gini, min_samples_split=6, min_samples_leaf=2) - Accuracy: 0.8253676470588235\n",
      "DT (max_depth=None, criterion=gini, min_samples_split=6, min_samples_leaf=3) - Accuracy: 0.8070934256055363\n",
      "DT (max_depth=4, criterion=gini, min_samples_split=6, min_samples_leaf=3) - Accuracy: 0.8214749134948097\n",
      "DT (max_depth=8, criterion=gini, min_samples_split=6, min_samples_leaf=3) - Accuracy: 0.8301254325259516\n",
      "DT (max_depth=12, criterion=gini, min_samples_split=6, min_samples_leaf=3) - Accuracy: 0.8233131487889274\n",
      "DT (max_depth=None, criterion=entropy, min_samples_split=2, min_samples_leaf=1) - Accuracy: 0.803416955017301\n",
      "DT (max_depth=4, criterion=entropy, min_samples_split=2, min_samples_leaf=1) - Accuracy: 0.810878027681661\n",
      "DT (max_depth=8, criterion=entropy, min_samples_split=2, min_samples_leaf=1) - Accuracy: 0.8328287197231834\n",
      "DT (max_depth=12, criterion=entropy, min_samples_split=2, min_samples_leaf=1) - Accuracy: 0.8227724913494809\n",
      "DT (max_depth=None, criterion=entropy, min_samples_split=2, min_samples_leaf=2) - Accuracy: 0.8062283737024222\n",
      "DT (max_depth=4, criterion=entropy, min_samples_split=2, min_samples_leaf=2) - Accuracy: 0.810878027681661\n",
      "DT (max_depth=8, criterion=entropy, min_samples_split=2, min_samples_leaf=2) - Accuracy: 0.8332612456747405\n",
      "DT (max_depth=12, criterion=entropy, min_samples_split=2, min_samples_leaf=2) - Accuracy: 0.8226643598615917\n",
      "DT (max_depth=None, criterion=entropy, min_samples_split=2, min_samples_leaf=3) - Accuracy: 0.8082828719723183\n",
      "DT (max_depth=4, criterion=entropy, min_samples_split=2, min_samples_leaf=3) - Accuracy: 0.810878027681661\n",
      "DT (max_depth=8, criterion=entropy, min_samples_split=2, min_samples_leaf=3) - Accuracy: 0.8332612456747405\n",
      "DT (max_depth=12, criterion=entropy, min_samples_split=2, min_samples_leaf=3) - Accuracy: 0.822015570934256\n",
      "DT (max_depth=None, criterion=entropy, min_samples_split=4, min_samples_leaf=1) - Accuracy: 0.8030925605536332\n",
      "DT (max_depth=4, criterion=entropy, min_samples_split=4, min_samples_leaf=1) - Accuracy: 0.810878027681661\n",
      "DT (max_depth=8, criterion=entropy, min_samples_split=4, min_samples_leaf=1) - Accuracy: 0.8332612456747405\n",
      "DT (max_depth=12, criterion=entropy, min_samples_split=4, min_samples_leaf=1) - Accuracy: 0.8250432525951558\n",
      "DT (max_depth=None, criterion=entropy, min_samples_split=4, min_samples_leaf=2) - Accuracy: 0.8047145328719724\n",
      "DT (max_depth=4, criterion=entropy, min_samples_split=4, min_samples_leaf=2) - Accuracy: 0.810878027681661\n",
      "DT (max_depth=8, criterion=entropy, min_samples_split=4, min_samples_leaf=2) - Accuracy: 0.8332612456747405\n",
      "DT (max_depth=12, criterion=entropy, min_samples_split=4, min_samples_leaf=2) - Accuracy: 0.8242863321799307\n",
      "DT (max_depth=None, criterion=entropy, min_samples_split=4, min_samples_leaf=3) - Accuracy: 0.8047145328719724\n",
      "DT (max_depth=4, criterion=entropy, min_samples_split=4, min_samples_leaf=3) - Accuracy: 0.810878027681661\n",
      "DT (max_depth=8, criterion=entropy, min_samples_split=4, min_samples_leaf=3) - Accuracy: 0.8328287197231834\n",
      "DT (max_depth=12, criterion=entropy, min_samples_split=4, min_samples_leaf=3) - Accuracy: 0.8228806228373703\n",
      "DT (max_depth=None, criterion=entropy, min_samples_split=6, min_samples_leaf=1) - Accuracy: 0.8072015570934256\n",
      "DT (max_depth=4, criterion=entropy, min_samples_split=6, min_samples_leaf=1) - Accuracy: 0.810878027681661\n",
      "DT (max_depth=8, criterion=entropy, min_samples_split=6, min_samples_leaf=1) - Accuracy: 0.8334775086505191\n",
      "DT (max_depth=12, criterion=entropy, min_samples_split=6, min_samples_leaf=1) - Accuracy: 0.8229887543252595\n",
      "DT (max_depth=None, criterion=entropy, min_samples_split=6, min_samples_leaf=2) - Accuracy: 0.8072015570934256\n",
      "DT (max_depth=4, criterion=entropy, min_samples_split=6, min_samples_leaf=2) - Accuracy: 0.810878027681661\n",
      "DT (max_depth=8, criterion=entropy, min_samples_split=6, min_samples_leaf=2) - Accuracy: 0.833044982698962\n",
      "DT (max_depth=12, criterion=entropy, min_samples_split=6, min_samples_leaf=2) - Accuracy: 0.8240700692041523\n",
      "DT (max_depth=None, criterion=entropy, min_samples_split=6, min_samples_leaf=3) - Accuracy: 0.8070934256055363\n",
      "DT (max_depth=4, criterion=entropy, min_samples_split=6, min_samples_leaf=3) - Accuracy: 0.810878027681661\n",
      "DT (max_depth=8, criterion=entropy, min_samples_split=6, min_samples_leaf=3) - Accuracy: 0.8329368512110726\n",
      "DT (max_depth=12, criterion=entropy, min_samples_split=6, min_samples_leaf=3) - Accuracy: 0.8221237024221453\n",
      "Best Decision Tree configuration: (8, 'entropy', 6, 1) with accuracy: 0.8334775086505191\n"
     ]
    }
   ],
   "source": [
    "# Decision Tree Tuning and Retraining\n",
    "# We'll tune the following hyperparameters for Decision Tree:\n",
    "\n",
    "# criterion: 'gini', 'entropy'\n",
    "# min_samples_split: 2, 4, 6\n",
    "# min_samples_leaf: 1, 2, 3\n",
    "\n",
    "\n",
    "# Initialize lists to store results\n",
    "dt_parameters = []\n",
    "dt_accuracies = []\n",
    "\n",
    "# Define hyperparameter grid\n",
    "criterion_options = ['gini', 'entropy']\n",
    "min_samples_split_values = [2, 4, 6]\n",
    "min_samples_leaf_values = [1, 2, 3]\n",
    "max_depth_values = [None, 4, 8, 12]\n",
    "\n",
    "# Loop over combinations of hyperparameters\n",
    "for criterion in criterion_options:\n",
    "    for min_samples_split in min_samples_split_values:\n",
    "        for min_samples_leaf in min_samples_leaf_values:\n",
    "            for max_depth in max_depth_values:\n",
    "                dt_classifier = DecisionTreeClassifier(max_depth=max_depth, criterion=criterion, \n",
    "                                                       min_samples_split=min_samples_split, min_samples_leaf=min_samples_leaf)\n",
    "                dt_classifier.fit(X_train, y_train)\n",
    "                y_pred = dt_classifier.predict(X_test)\n",
    "                accuracy = accuracy_score(y_test, y_pred)\n",
    "                dt_parameters.append((max_depth, criterion, min_samples_split, min_samples_leaf))\n",
    "                dt_accuracies.append(accuracy)\n",
    "                print(f\"DT (max_depth={max_depth}, criterion={criterion}, min_samples_split={min_samples_split}, min_samples_leaf={min_samples_leaf}) - Accuracy: {accuracy}\")\n",
    "\n",
    "# Find the best DT configuration\n",
    "best_dt_index = dt_accuracies.index(max(dt_accuracies))\n",
    "best_dt_params = dt_parameters[best_dt_index]\n",
    "best_dt_accuracy = dt_accuracies[best_dt_index]\n",
    "\n",
    "print(f\"Best Decision Tree configuration: {best_dt_params} with accuracy: {best_dt_accuracy}\")\n",
    "\n"
   ]
  },
  {
   "cell_type": "markdown",
   "metadata": {},
   "source": [
    "1)\n",
    "\n",
    "Decision Tree Model Accuracy Scores:\n",
    "\n",
    "Max depth 1: 0.7564\n",
    "Max depth 2: 0.7564\n",
    "Max depth 4: 0.8109\n",
    "Max depth 8: 0.8332 (Highest accuracy)\n",
    "Max depth 16: 0.8117\n",
    "Max depth 32: 0.8051\n",
    "\n",
    "KNN Model Accuracy Scores:\n",
    "\n",
    "k = 1: 0.7455\n",
    "k = 4: 0.7753\n",
    "k = 7: 0.7655\n",
    "k = 10: 0.7743\n",
    "k = 13: 0.7730\n",
    "k = 16: 0.7764\n",
    "k = 19: 0.7754\n",
    "k = 22: 0.7769 (Highest accuracy)\n",
    "k = 25: 0.7753\n",
    "k = 28: 0.7741\n",
    "k = 31: 0.7756\n",
    "k = 34: 0.7764\n",
    "k = 37: 0.7750\n",
    "\n",
    "The Decision Tree model consistently showed higher accuracy scores compared to the KNN models across various hyperparameter values. The peak accuracy of the Decision Tree model (0.8332) was significantly higher than that of the KNN models (0.7769). The Decision Tree model not only provided the highest accuracy but also demonstrated stability around the optimal max depth (between 8 and 16).\n",
    "\n",
    "2) I have done this part in the 2 previous cells\n",
    "\n"
   ]
  }
 ],
 "metadata": {
  "kernelspec": {
   "display_name": "Python 3",
   "language": "python",
   "name": "python3"
  },
  "language_info": {
   "codemirror_mode": {
    "name": "ipython",
    "version": 3
   },
   "file_extension": ".py",
   "mimetype": "text/x-python",
   "name": "python",
   "nbconvert_exporter": "python",
   "pygments_lexer": "ipython3",
   "version": "3.6.9"
  },
  "toc": {
   "base_numbering": 1,
   "nav_menu": {},
   "number_sections": false,
   "sideBar": true,
   "skip_h1_title": false,
   "title_cell": "Table of Contents",
   "title_sidebar": "Contents",
   "toc_cell": false,
   "toc_position": {},
   "toc_section_display": true,
   "toc_window_display": false
  },
  "varInspector": {
   "cols": {
    "lenName": 16,
    "lenType": 16,
    "lenVar": 40
   },
   "kernels_config": {
    "python": {
     "delete_cmd_postfix": "",
     "delete_cmd_prefix": "del ",
     "library": "var_list.py",
     "varRefreshCmd": "print(var_dic_list())"
    },
    "r": {
     "delete_cmd_postfix": ") ",
     "delete_cmd_prefix": "rm(",
     "library": "var_list.r",
     "varRefreshCmd": "cat(var_dic_list()) "
    }
   },
   "types_to_exclude": [
    "module",
    "function",
    "builtin_function_or_method",
    "instance",
    "_Feature"
   ],
   "window_display": false
  }
 },
 "nbformat": 4,
 "nbformat_minor": 2
}
